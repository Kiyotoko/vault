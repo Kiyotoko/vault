{
 "cells": [
  {
   "attachments": {},
   "cell_type": "markdown",
   "metadata": {},
   "source": [
    "# Ricky"
   ]
  },
  {
   "cell_type": "code",
   "execution_count": 1,
   "metadata": {},
   "outputs": [],
   "source": [
    "def josephus(n: int, k: int) -> list[int]:\n",
    "    l: list[int] = [i for i in range(1, n + 1)]\n",
    "    r: list[int] = []\n",
    "    i: int = 0\n",
    "    while len(l) > 0:\n",
    "        i+=1\n",
    "        if (i < k):\n",
    "            l.append(l[0])\n",
    "        else:\n",
    "            r.append(l[0])\n",
    "            i = 0\n",
    "        l.remove(l[0])\n",
    "    return r"
   ]
  },
  {
   "cell_type": "code",
   "execution_count": 2,
   "metadata": {},
   "outputs": [
    {
     "name": "stdout",
     "output_type": "stream",
     "text": [
      "1 2 [1]\n",
      "2 2 [2, 1]\n",
      "3 2 [2, 1, 3]\n",
      "4 2 [2, 4, 3, 1]\n",
      "5 2 [2, 4, 1, 5, 3]\n",
      "6 2 [2, 4, 6, 3, 1, 5]\n",
      "7 2 [2, 4, 6, 1, 5, 3, 7]\n",
      "8 2 [2, 4, 6, 8, 3, 7, 5, 1]\n",
      "9 2 [2, 4, 6, 8, 1, 5, 9, 7, 3]\n",
      "10 2 [2, 4, 6, 8, 10, 3, 7, 1, 9, 5]\n",
      "11 2 [2, 4, 6, 8, 10, 1, 5, 9, 3, 11, 7]\n",
      "12 2 [2, 4, 6, 8, 10, 12, 3, 7, 11, 5, 1, 9]\n",
      "13 2 [2, 4, 6, 8, 10, 12, 1, 5, 9, 13, 7, 3, 11]\n",
      "14 2 [2, 4, 6, 8, 10, 12, 14, 3, 7, 11, 1, 9, 5, 13]\n"
     ]
    }
   ],
   "source": [
    "(min, max, k) = (1, 14, 2)\n",
    "for n in range(min, max + 1):\n",
    "    print(n, k, josephus(n, k))"
   ]
  },
  {
   "cell_type": "code",
   "execution_count": 3,
   "metadata": {},
   "outputs": [
    {
     "name": "stdout",
     "output_type": "stream",
     "text": [
      "[4, 8, 2, 7, 3, 10, 9, 1, 6, 5]\n"
     ]
    }
   ],
   "source": [
    "print(josephus(n=10,k=4))"
   ]
  },
  {
   "attachments": {},
   "cell_type": "markdown",
   "metadata": {},
   "source": [
    "# Iris"
   ]
  },
  {
   "cell_type": "code",
   "execution_count": null,
   "metadata": {},
   "outputs": [],
   "source": [
    "vocals = ['a', 'e', 'i', 'o', 'u', 'ö', 'ü', 'ä']\n",
    "doubles = ['ei', 'au', 'eu']"
   ]
  }
 ],
 "metadata": {
  "kernelspec": {
   "display_name": "Python 3",
   "language": "python",
   "name": "python3"
  },
  "language_info": {
   "codemirror_mode": {
    "name": "ipython",
    "version": 3
   },
   "file_extension": ".py",
   "mimetype": "text/x-python",
   "name": "python",
   "nbconvert_exporter": "python",
   "pygments_lexer": "ipython3",
   "version": "3.11.3"
  },
  "orig_nbformat": 4
 },
 "nbformat": 4,
 "nbformat_minor": 2
}
